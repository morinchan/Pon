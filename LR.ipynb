{
 "cells": [
  {
   "cell_type": "markdown",
   "metadata": {},
   "source": [
    "# ex1 linear regression"
   ]
  },
  {
   "cell_type": "code",
   "execution_count": 1,
   "metadata": {
    "collapsed": false
   },
   "outputs": [],
   "source": [
    "import os\n",
    "import numpy as np\n",
    "import pandas as pd\n",
    "import matplotlib.pyplot as plt\n",
    "\n",
    "%matplotlib inline"
   ]
  },
  {
   "cell_type": "code",
   "execution_count": 2,
   "metadata": {
    "collapsed": false
   },
   "outputs": [],
   "source": [
    "os.chdir('F:\\\\Mymaterial\\\\ML\\\\ng\\\\homework\\\\ex\\\\machine-learning-ex1\\\\ex1')\n",
    "# read data\n",
    "data_train = pd.read_csv('ex1data1.txt',names=['x','y'])"
   ]
  },
  {
   "cell_type": "code",
   "execution_count": 3,
   "metadata": {
    "collapsed": false
   },
   "outputs": [
    {
     "name": "stdout",
     "output_type": "stream",
     "text": [
      "<class 'pandas.core.frame.DataFrame'>\n",
      "RangeIndex: 97 entries, 0 to 96\n",
      "Data columns (total 2 columns):\n",
      "x    97 non-null float64\n",
      "y    97 non-null float64\n",
      "dtypes: float64(2)\n",
      "memory usage: 1.6 KB\n"
     ]
    }
   ],
   "source": [
    "data_train.info()"
   ]
  },
  {
   "cell_type": "code",
   "execution_count": 4,
   "metadata": {
    "collapsed": true
   },
   "outputs": [],
   "source": [
    "X_train = data_train.x.as_matrix()\n",
    "y_train = data_train.y.as_matrix()"
   ]
  },
  {
   "cell_type": "code",
   "execution_count": 5,
   "metadata": {
    "collapsed": false
   },
   "outputs": [
    {
     "data": {
      "text/plain": [
       "<matplotlib.text.Text at 0x1ea774ebc88>"
      ]
     },
     "execution_count": 5,
     "metadata": {},
     "output_type": "execute_result"
    },
    {
     "data": {
      "image/png": "[encoded data removed]",
      "text/plain": [
       "<matplotlib.figure.Figure at 0x1ea7714a358>"
      ]
     },
     "metadata": {},
     "output_type": "display_data"
    }
   ],
   "source": [
    "plt.scatter(X_train, y_train)\n",
    "plt.xlabel('x')\n",
    "plt.ylabel('y')\n",
    "plt.xlim(4,25)\n",
    "plt.title('linear regression')"
   ]
  },
  {
   "cell_type": "code",
   "execution_count": 6,
   "metadata": {
    "collapsed": false
   },
   "outputs": [],
   "source": [
    "X_train = X_train.reshape(-1,1)\n",
    "y_train = y_train.reshape(-1,1)\n",
    "m = X_train.shape[0]"
   ]
  },
  {
   "cell_type": "code",
   "execution_count": 7,
   "metadata": {
    "collapsed": false
   },
   "outputs": [],
   "source": [
    "def initiate_parameters():\n",
    "    \n",
    "    w = 0\n",
    "    b = 0\n",
    "    \n",
    "    return w, b"
   ]
  },
  {
   "cell_type": "code",
   "execution_count": 8,
   "metadata": {
    "collapsed": false
   },
   "outputs": [
    {
     "name": "stdout",
     "output_type": "stream",
     "text": [
      "0\n",
      "0\n"
     ]
    }
   ],
   "source": [
    "w, b = initiate_parameters()\n",
    "print(str(w))\n",
    "print(str(b))"
   ]
  },
  {
   "cell_type": "code",
   "execution_count": 9,
   "metadata": {
    "collapsed": true
   },
   "outputs": [],
   "source": [
    "def propagate(w, b, X, y):\n",
    " \n",
    "    grads = {}\n",
    "    \n",
    "    m = X.shape[0]\n",
    "    \n",
    "    Z = np.dot(X, w) + b\n",
    "    cost = np.sum(np.power(Z-y,2) / 2 / m)\n",
    "\n",
    "    dw = np.dot((Z-y).T,X) / m\n",
    "    db = np.sum(Z-y) / m\n",
    "    grads = {'dw': dw,\n",
    "             'db': db}\n",
    "    \n",
    "    return grads, cost"
   ]
  },
  {
   "cell_type": "code",
   "execution_count": 10,
   "metadata": {
    "collapsed": false,
    "scrolled": true
   },
   "outputs": [
    {
     "name": "stdout",
     "output_type": "stream",
     "text": [
      "dw = [[-65.32884975]]\n",
      "db = -5.83913505155\n",
      "cost = 32.0727338775\n"
     ]
    }
   ],
   "source": [
    "grads, cost = propagate(w,b, X_train, y_train)\n",
    "\n",
    "print('dw = ' + str(grads['dw']))\n",
    "print('db = ' + str(grads['db']))\n",
    "print('cost = ' + str(cost))"
   ]
  },
  {
   "cell_type": "code",
   "execution_count": 11,
   "metadata": {
    "collapsed": false
   },
   "outputs": [],
   "source": [
    "def optimize(w, b, X, y, num_iterations, learning_rate):\n",
    "    \n",
    "    costs = []\n",
    "\n",
    "    #print(str(w))\n",
    "    #print(str(b))\n",
    "    \n",
    "    for i in range(num_iterations):\n",
    "        \n",
    "        grads, cost = propagate(w, b, X, y)\n",
    "        \n",
    "        dw = grads['dw']\n",
    "        db = grads['db']\n",
    "        \n",
    "        #print(str(dw))\n",
    "        #print(str(db))\n",
    "        \n",
    "        w = w - learning_rate * dw\n",
    "        b = b - learning_rate * dw\n",
    "        \n",
    "        #print(str(w))\n",
    "        #print(str(b))\n",
    "       \n",
    "        if i % 10 == 0:\n",
    "            costs.append(cost)\n",
    "            print('Cost after iteration %i: %f' % (i, cost))\n",
    "        \n",
    "    parameters = {'w': w,\n",
    "                  'b': b} \n",
    "    grads = {'dw': dw,\n",
    "             'db': db}\n",
    "        \n",
    "    return parameters, grads, costs"
   ]
  },
  {
   "cell_type": "code",
   "execution_count": 12,
   "metadata": {
    "collapsed": false,
    "scrolled": true
   },
   "outputs": [
    {
     "name": "stdout",
     "output_type": "stream",
     "text": [
      "Cost after iteration 0: 32.072734\n",
      "Cost after iteration 10: 20.369977\n",
      "Cost after iteration 20: 13.983714\n",
      "Cost after iteration 30: 10.504661\n",
      "Cost after iteration 40: 8.613811\n",
      "Cost after iteration 50: 7.589452\n",
      "Cost after iteration 60: 7.036982\n",
      "Cost after iteration 70: 6.740870\n",
      "Cost after iteration 80: 6.583554\n",
      "Cost after iteration 90: 6.501034\n",
      "Cost after iteration 100: 6.458555\n",
      "Cost after iteration 110: 6.437314\n",
      "Cost after iteration 120: 6.427185\n",
      "Cost after iteration 130: 6.422755\n",
      "Cost after iteration 140: 6.421159\n",
      "Cost after iteration 150: 6.420900\n",
      "Cost after iteration 160: 6.421215\n",
      "Cost after iteration 170: 6.421725\n",
      "Cost after iteration 180: 6.422256\n",
      "Cost after iteration 190: 6.422732\n",
      "w = [[ 0.72761978]]\n",
      "b = [[ 0.72761978]]\n",
      "dw = [[ 0.16539424]]\n",
      "db = 0.859046122716\n"
     ]
    }
   ],
   "source": [
    "w,b = initiate_parameters()\n",
    "params, grads, costs = optimize(w, b, X_train, y_train, num_iterations=200, learning_rate=0.022)\n",
    "print('w = ' + str(params['w']))\n",
    "print('b = ' + str(params['b']))\n",
    "print('dw = ' + str(grads['dw']))\n",
    "print('db = ' + str(grads['db']))"
   ]
  },
  {
   "cell_type": "code",
   "execution_count": 13,
   "metadata": {
    "collapsed": false
   },
   "outputs": [
    {
     "data": {
      "text/plain": [
       "(0, 35)"
      ]
     },
     "execution_count": 13,
     "metadata": {},
     "output_type": "execute_result"
    },
    {
     "data": {
      "image/png": "[encoded data removed]",
      "text/plain": [
       "<matplotlib.figure.Figure at 0x1ea77574160>"
      ]
     },
     "metadata": {},
     "output_type": "display_data"
    }
   ],
   "source": [
    "plt.plot(costs)\n",
    "plt.ylim(0,35)\n"
   ]
  },
  {
   "cell_type": "code",
   "execution_count": 14,
   "metadata": {
    "collapsed": false
   },
   "outputs": [],
   "source": [
    "w = params['w']\n",
    "b = params['b']\n",
    "y_predtion = np.dot(X_train, w) + b"
   ]
  },
  {
   "cell_type": "code",
   "execution_count": 15,
   "metadata": {
    "collapsed": false
   },
   "outputs": [
    {
     "data": {
      "text/plain": [
       "(4, 25)"
      ]
     },
     "execution_count": 15,
     "metadata": {},
     "output_type": "execute_result"
    },
    {
     "data": {
      "image/png": "[encoded data removed]",
      "text/plain": [
       "<matplotlib.figure.Figure at 0x1ea775a41d0>"
      ]
     },
     "metadata": {},
     "output_type": "display_data"
    }
   ],
   "source": [
    "plt.scatter(X_train, y_train)\n",
    "plt.plot(X_train, y_predtion, 'y')\n",
    "plt.xlim(4,25)"
   ]
  },
  {
   "cell_type": "markdown",
   "metadata": {},
   "source": [
    "## Using sklearn"
   ]
  },
  {
   "cell_type": "code",
   "execution_count": 16,
   "metadata": {
    "collapsed": true
   },
   "outputs": [],
   "source": [
    "from sklearn.linear_model import LinearRegression\n",
    "model_lr = LinearRegression()"
   ]
  },
  {
   "cell_type": "code",
   "execution_count": 17,
   "metadata": {
    "collapsed": false
   },
   "outputs": [
    {
     "data": {
      "text/plain": [
       "LinearRegression(copy_X=True, fit_intercept=True, n_jobs=1, normalize=False)"
      ]
     },
     "execution_count": 17,
     "metadata": {},
     "output_type": "execute_result"
    }
   ],
   "source": [
    "model_lr.fit(X_train, y_train)"
   ]
  },
  {
   "cell_type": "code",
   "execution_count": 18,
   "metadata": {
    "collapsed": false
   },
   "outputs": [],
   "source": [
    "y_pred = model_lr.predict(X_train)"
   ]
  },
  {
   "cell_type": "code",
   "execution_count": 19,
   "metadata": {
    "collapsed": false
   },
   "outputs": [
    {
     "data": {
      "text/plain": [
       "(4, 25)"
      ]
     },
     "execution_count": 19,
     "metadata": {},
     "output_type": "execute_result"
    },
    {
     "data": {
      "image/png": "[encoded data removed]",
      "text/plain": [
       "<matplotlib.figure.Figure at 0x1ea775f0518>"
      ]
     },
     "metadata": {},
     "output_type": "display_data"
    }
   ],
   "source": [
    "plt.scatter(X_train, y_train)\n",
    "plt.plot(X_train, y_pred, 'g')\n",
    "plt.xlim(4,25)\n"
   ]
  },
  {
   "cell_type": "markdown",
   "metadata": {},
   "source": [
    "### compare"
   ]
  },
  {
   "cell_type": "code",
   "execution_count": 20,
   "metadata": {
    "collapsed": false,
    "scrolled": false
   },
   "outputs": [
    {
     "data": {
      "text/plain": [
       "(4, 25)"
      ]
     },
     "execution_count": 20,
     "metadata": {},
     "output_type": "execute_result"
    },
    {
     "data": {
      "image/png": "[encoded data removed]",
      "text/plain": [
       "<matplotlib.figure.Figure at 0x1ea7715f908>"
      ]
     },
     "metadata": {},
     "output_type": "display_data"
    }
   ],
   "source": [
    "plt.scatter(X_train, y_train)\n",
    "plt.plot(X_train, y_pred, 'g')\n",
    "plt.plot(X_train, y_predtion, 'y')\n",
    "plt.xlim(4,25)"
   ]
  },
  {
   "cell_type": "markdown",
   "metadata": {},
   "source": [
    "### change initiate parameters, using np.random.random()"
   ]
  },
  {
   "cell_type": "code",
   "execution_count": 21,
   "metadata": {
    "collapsed": true
   },
   "outputs": [],
   "source": [
    "def initiate_params():\n",
    "    np.random.seed(1)\n",
    "    w = np.random.random() * 0.01\n",
    "    b = np.random.random() * 0.01\n",
    "    \n",
    "    return w, b"
   ]
  },
  {
   "cell_type": "code",
   "execution_count": 22,
   "metadata": {
    "collapsed": false
   },
   "outputs": [
    {
     "name": "stdout",
     "output_type": "stream",
     "text": [
      "0.00417022004702574\n",
      "0.007203244934421581\n"
     ]
    }
   ],
   "source": [
    "w1, b1 = initiate_params()\n",
    "print(w1)\n",
    "print(b1)"
   ]
  },
  {
   "cell_type": "code",
   "execution_count": 23,
   "metadata": {
    "collapsed": false
   },
   "outputs": [
    {
     "name": "stdout",
     "output_type": "stream",
     "text": [
      "Cost after iteration 0: 31.759216\n",
      "Cost after iteration 10: 20.199766\n",
      "Cost after iteration 20: 13.891914\n",
      "Cost after iteration 30: 10.455730\n",
      "Cost after iteration 40: 8.588294\n",
      "Cost after iteration 50: 7.576705\n",
      "Cost after iteration 60: 7.031186\n",
      "Cost after iteration 70: 6.738847\n",
      "Cost after iteration 80: 6.583574\n",
      "Cost after iteration 90: 6.502152\n",
      "Cost after iteration 100: 6.460261\n",
      "Cost after iteration 110: 6.439330\n",
      "Cost after iteration 120: 6.429363\n",
      "Cost after iteration 130: 6.425016\n",
      "Cost after iteration 140: 6.423461\n",
      "w = [[ 0.72113541]]\n",
      "b = [[ 0.72416844]]\n",
      "dw = [[ 0.73836821]]\n",
      "db = 0.918146837646\n"
     ]
    }
   ],
   "source": [
    "params1, grads1, costs1 = optimize(w1, b1, X_train, y_train, num_iterations=150, learning_rate=0.022)\n",
    "print('w = ' + str(params1['w']))\n",
    "print('b = ' + str(params1['b']))\n",
    "print('dw = ' + str(grads1['dw']))\n",
    "print('db = ' + str(grads1['db']))"
   ]
  },
  {
   "cell_type": "markdown",
   "metadata": {},
   "source": [
    "### nothing change"
   ]
  },
  {
   "cell_type": "markdown",
   "metadata": {},
   "source": [
    "### multiple"
   ]
  },
  {
   "cell_type": "code",
   "execution_count": 24,
   "metadata": {
    "collapsed": false
   },
   "outputs": [
    {
     "name": "stdout",
     "output_type": "stream",
     "text": [
      "<class 'pandas.core.frame.DataFrame'>\n",
      "RangeIndex: 47 entries, 0 to 46\n",
      "Data columns (total 3 columns):\n",
      "x1    47 non-null int64\n",
      "x2    47 non-null int64\n",
      "y     47 non-null int64\n",
      "dtypes: int64(3)\n",
      "memory usage: 1.2 KB\n"
     ]
    }
   ],
   "source": [
    "data_train = pd.read_csv('ex1data2.txt',names=['x1','x2','y'])\n",
    "data_train.info()"
   ]
  },
  {
   "cell_type": "code",
   "execution_count": 25,
   "metadata": {
    "collapsed": false
   },
   "outputs": [],
   "source": [
    "X_train = data_train[['x1','x2']].as_matrix()\n",
    "y_train = data_train.y.as_matrix()"
   ]
  },
  {
   "cell_type": "code",
   "execution_count": 26,
   "metadata": {
    "collapsed": false
   },
   "outputs": [
    {
     "data": {
      "text/plain": [
       "LinearRegression(copy_X=True, fit_intercept=True, n_jobs=1, normalize=False)"
      ]
     },
     "execution_count": 26,
     "metadata": {},
     "output_type": "execute_result"
    }
   ],
   "source": [
    "model_lr.fit(X_train, y_train)"
   ]
  },
  {
   "cell_type": "code",
   "execution_count": 27,
   "metadata": {
    "collapsed": true
   },
   "outputs": [],
   "source": [
    "y_pred = model_lr.predict(X_train)"
   ]
  },
  {
   "cell_type": "code",
   "execution_count": 28,
   "metadata": {
    "collapsed": false
   },
   "outputs": [],
   "source": [
    "from mpl_toolkits.mplot3d import Axes3D"
   ]
  },
  {
   "cell_type": "code",
   "execution_count": 29,
   "metadata": {
    "collapsed": false
   },
   "outputs": [
    {
     "data": {
      "text/plain": [
       "<mpl_toolkits.mplot3d.art3d.Path3DCollection at 0x1ea7927d898>"
      ]
     },
     "execution_count": 29,
     "metadata": {},
     "output_type": "execute_result"
    },
    {
     "data": {
      "image/png": "[encoded data removed]",
      "text/plain": [
       "<matplotlib.figure.Figure at 0x1ea7923aeb8>"
      ]
     },
     "metadata": {},
     "output_type": "display_data"
    }
   ],
   "source": [
    "fig = plt.figure()\n",
    "ax = fig.add_subplot(111, projection='3d')\n",
    "ax.scatter(data_train.x1, data_train.x2, data_train.y)\n",
    "ax.scatter(data_train.x1, data_train.x2, y_pred, 'r')"
   ]
  },
  {
   "cell_type": "code",
   "execution_count": null,
   "metadata": {
    "collapsed": true
   },
   "outputs": [],
   "source": []
  },
  {
   "cell_type": "code",
   "execution_count": null,
   "metadata": {
    "collapsed": true
   },
   "outputs": [],
   "source": []
  },
  {
   "cell_type": "code",
   "execution_count": null,
   "metadata": {
    "collapsed": true
   },
   "outputs": [],
   "source": []
  }
 ],
 "metadata": {
  "kernelspec": {
   "display_name": "Python 3",
   "language": "python",
   "name": "python3"
  },
  "language_info": {
   "codemirror_mode": {
    "name": "ipython",
    "version": 3
   },
   "file_extension": ".py",
   "mimetype": "text/x-python",
   "name": "python",
   "nbconvert_exporter": "python",
   "pygments_lexer": "ipython3",
   "version": "3.5.4"
  }
 },
 "nbformat": 4,
 "nbformat_minor": 0
}
